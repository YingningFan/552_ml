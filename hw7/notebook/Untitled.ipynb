{
 "cells": [
  {
   "cell_type": "code",
   "execution_count": null,
   "id": "c32debe6",
   "metadata": {},
   "outputs": [],
   "source": [
    "import os\n",
    "import glob2\n",
    "from keras.callbacks import ModelCheckpoint\n",
    "from keras.utils import np_utils\n",
    "from keras.layers import Dense\n",
    "from keras.layers import Dropout\n",
    "from keras.layers import LSTM\n",
    "from keras.models import Sequential\n",
    "import numpy as np\n",
    "import sys"
   ]
  },
  {
   "cell_type": "markdown",
   "id": "38b38078",
   "metadata": {},
   "source": [
    "# 1. Generative Models for Text"
   ]
  },
  {
   "cell_type": "markdown",
   "id": "0a3ebbc4",
   "metadata": {},
   "source": [
    "(a) In this problem, we are trying to build a generative model to mimic the writ- ing style of prominent British Mathematician, Philosopher, prolific writer, and political activist, Bertrand Russell.\n"
   ]
  },
  {
   "cell_type": "markdown",
   "id": "38680937",
   "metadata": {},
   "source": [
    "\n",
    "(b) Download the following books from Project Gutenberg http://www.gutenberg. org/ebooks/author/355 in text format:\n",
    "i. The Problems of Philosophy\n",
    "ii. The Analysis of Mind\n",
    "iii. Mysticism and Logic and Other Essays\n",
    "iv. Our Knowledge of the External World as a Field for Scientific Method in Philosophy"
   ]
  },
  {
   "cell_type": "code",
   "execution_count": 2,
   "id": "18c5440e",
   "metadata": {},
   "outputs": [],
   "source": [
    "os.chdir('../data/books/')"
   ]
  },
  {
   "cell_type": "code",
   "execution_count": 3,
   "id": "5d32040c",
   "metadata": {},
   "outputs": [
    {
     "name": "stdout",
     "output_type": "stream",
     "text": [
      "['MLOE.txt', 'TAMatter.txt', 'OKEWFSMP.txt', 'TPP.txt', 'THWP.txt', 'TAM.txt', 'AIIMAT.txt', 'output.txt']\n"
     ]
    }
   ],
   "source": [
    "filenames = glob2.glob('*.txt')  # list of all .txt files in the directory\n",
    "print(filenames)"
   ]
  },
  {
   "cell_type": "code",
   "execution_count": null,
   "id": "e5167fc6",
   "metadata": {},
   "outputs": [],
   "source": [
    "with open('output.txt', 'wb') as outfile:\n",
    "    for fname in filenames:\n",
    "        with open(fname, 'rb') as infile:\n",
    "            for line in infile:\n",
    "                outfile.write(line)"
   ]
  },
  {
   "cell_type": "markdown",
   "id": "d49bb9c2",
   "metadata": {},
   "source": [
    "(c) LSTM: Train an LSTM to mimic Russell’s style and thoughts:"
   ]
  },
  {
   "cell_type": "markdown",
   "id": "1db79471",
   "metadata": {},
   "source": [
    "i. Concatenate your text files to create a corpus of Russell’s writings."
   ]
  },
  {
   "cell_type": "code",
   "execution_count": 17,
   "id": "9437e007",
   "metadata": {},
   "outputs": [],
   "source": [
    "with open('output.txt', 'rb') as f:\n",
    "    text = f.read()\n",
    "    text.lower()"
   ]
  },
  {
   "cell_type": "markdown",
   "id": "1f263bac",
   "metadata": {},
   "source": [
    "ii. Use a character-level representation for this model by using extended ASCII that has N = 256 characters. Each character will be encoded into a an integer using its ASCII code. Rescale the integers to the range [0, 1], because LSTM uses a sigmoid activation function. LSTM will receive the rescaled integers\n",
    "as its input"
   ]
  },
  {
   "cell_type": "code",
   "execution_count": 20,
   "id": "9d634ed6",
   "metadata": {},
   "outputs": [],
   "source": [
    "char = sorted(list(set(text)))\n",
    "sep_char = {}\n",
    "for a, b in enumerate(char):\n",
    "    sep_char[b] = a"
   ]
  },
  {
   "cell_type": "markdown",
   "id": "e8e9d3a6",
   "metadata": {},
   "source": [
    "iii. Choose a window size, e.g., W = 100."
   ]
  },
  {
   "cell_type": "code",
   "execution_count": 21,
   "id": "58dd967f",
   "metadata": {},
   "outputs": [
    {
     "name": "stdout",
     "output_type": "stream",
     "text": [
      "147\n",
      "5211158\n"
     ]
    }
   ],
   "source": [
    "w = 100\n",
    "print(len(char))\n",
    "print(len(text))"
   ]
  },
  {
   "cell_type": "markdown",
   "id": "fce7e58b",
   "metadata": {},
   "source": [
    "iv. Inputs to the network will be the first W −1 = 99 characters of each sequence, and the output of the network will be the Wth character of the sequence. Basically, we are training the network to predict each character using the 99 characters that precede it. Slide the window in strides of S = 1 on the text. For example, if W = 5 and S = 1 and we want to train the network with the sequence ABRACADABRA, The first input to the network will be ABRA and the corresponding output will be C. The second input will be BRAC and the second output will be A, etc."
   ]
  },
  {
   "cell_type": "code",
   "execution_count": null,
   "id": "0e47dfb3",
   "metadata": {},
   "outputs": [],
   "source": []
  },
  {
   "cell_type": "markdown",
   "id": "bc763847",
   "metadata": {},
   "source": [
    "concate text file: https://stackoverflow.com/questions/54179499/unicodeencodeerror-when-concatenating-text-files-in-python "
   ]
  }
 ],
 "metadata": {
  "kernelspec": {
   "display_name": "Python 3",
   "language": "python",
   "name": "python3"
  },
  "language_info": {
   "codemirror_mode": {
    "name": "ipython",
    "version": 3
   },
   "file_extension": ".py",
   "mimetype": "text/x-python",
   "name": "python",
   "nbconvert_exporter": "python",
   "pygments_lexer": "ipython3",
   "version": "3.8.8"
  }
 },
 "nbformat": 4,
 "nbformat_minor": 5
}
